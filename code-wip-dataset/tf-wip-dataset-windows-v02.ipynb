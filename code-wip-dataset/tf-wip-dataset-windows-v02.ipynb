{
 "cells": [
  {
   "cell_type": "markdown",
   "id": "6fc700c2-d98b-4bc8-be18-1327dac69c2a",
   "metadata": {},
   "source": [
    "**Reference**:\n",
    "\n",
    "https://towardsdatascience.com/how-to-fine-tune-an-nlp-regression-model-with-transformers-and-huggingface-94b2ed6f798f\n",
    "\n",
    "https://predictivehacks.com/how-to-fine-tune-an-nlp-regression-model-with-transformers-and-huggingface/\n"
   ]
  },
  {
   "cell_type": "markdown",
   "id": "0a327bd2-6014-4f80-802d-cc90a3c1b736",
   "metadata": {},
   "source": [
    "# Don't normalize the data "
   ]
  },
  {
   "cell_type": "markdown",
   "id": "4125a0a2-cd1c-4be2-9617-2f3a86591ab6",
   "metadata": {},
   "source": [
    "# Linear Regression "
   ]
  },
  {
   "cell_type": "code",
   "execution_count": 26,
   "id": "8adb61ce-7ed5-44cd-acae-65e1e4057a9d",
   "metadata": {},
   "outputs": [],
   "source": [
    "import numpy as np\n",
    "import pandas as pd\n",
    "import matplotlib.pyplot as plt\n",
    "\n",
    "import transformers\n",
    "from datasets import Dataset,load_dataset, load_from_disk\n",
    "from transformers import AutoTokenizer, AutoModelForSequenceClassification\n",
    "\n",
    "from transformers.utils import logging\n",
    "logging.set_verbosity_error()\n",
    "pd.set_option('display.max_colwidth', None)\n",
    "\n",
    "from transformers import AutoModelForSequenceClassification\n",
    "from transformers import TrainingArguments, Trainer\n"
   ]
  },
  {
   "cell_type": "code",
   "execution_count": 27,
   "id": "00f698ca-fca4-45b8-a900-89e0bb884987",
   "metadata": {},
   "outputs": [
    {
     "name": "stdout",
     "output_type": "stream",
     "text": [
      "huggingface/tokenizers: The current process just got forked, after parallelism has already been used. Disabling parallelism to avoid deadlocks...\n",
      "To disable this warning, you can either:\n",
      "\t- Avoid using `tokenizers` before the fork if possible\n",
      "\t- Explicitly set the environment variable TOKENIZERS_PARALLELISM=(true | false)\n",
      "/Users/yousef/code/thesis-nlp/code-wip-dataset\n"
     ]
    }
   ],
   "source": [
    "! pwd"
   ]
  },
  {
   "cell_type": "code",
   "execution_count": 28,
   "id": "5f600af6-4e0c-4ce1-8ed8-dffc1dc48493",
   "metadata": {},
   "outputs": [
    {
     "name": "stdout",
     "output_type": "stream",
     "text": [
      "Max number in the data is 366\n"
     ]
    },
    {
     "data": {
      "text/plain": [
       "' w_open 0 w_high 1 w_low 0 w_close 1 new 3 started 1 done 0 dayofweek 3 dayofmonth 14 dayofyear 14'"
      ]
     },
     "metadata": {},
     "output_type": "display_data"
    },
    {
     "data": {
      "text/html": [
       "<div>\n",
       "<style scoped>\n",
       "    .dataframe tbody tr th:only-of-type {\n",
       "        vertical-align: middle;\n",
       "    }\n",
       "\n",
       "    .dataframe tbody tr th {\n",
       "        vertical-align: top;\n",
       "    }\n",
       "\n",
       "    .dataframe thead th {\n",
       "        text-align: right;\n",
       "    }\n",
       "</style>\n",
       "<table border=\"1\" class=\"dataframe\">\n",
       "  <thead>\n",
       "    <tr style=\"text-align: right;\">\n",
       "      <th></th>\n",
       "      <th>label</th>\n",
       "      <th>text</th>\n",
       "    </tr>\n",
       "    <tr>\n",
       "      <th>date</th>\n",
       "      <th></th>\n",
       "      <th></th>\n",
       "    </tr>\n",
       "  </thead>\n",
       "  <tbody>\n",
       "    <tr>\n",
       "      <th>2010-01-14</th>\n",
       "      <td>1.0</td>\n",
       "      <td>w_open 0 w_high 1 w_low 0 w_close 1 new 3 started 1 done 0 dayofweek 3 dayofmonth 14 dayofyear 14</td>\n",
       "    </tr>\n",
       "    <tr>\n",
       "      <th>2010-01-15</th>\n",
       "      <td>1.0</td>\n",
       "      <td>w_open 1 w_high 1 w_low 1 w_close 1 new 1 started 0 done 0 dayofweek 4 dayofmonth 15 dayofyear 15</td>\n",
       "    </tr>\n",
       "  </tbody>\n",
       "</table>\n",
       "</div>"
      ],
      "text/plain": [
       "            label  \\\n",
       "date                \n",
       "2010-01-14    1.0   \n",
       "2010-01-15    1.0   \n",
       "\n",
       "                                                                                                          text  \n",
       "date                                                                                                            \n",
       "2010-01-14   w_open 0 w_high 1 w_low 0 w_close 1 new 3 started 1 done 0 dayofweek 3 dayofmonth 14 dayofyear 14  \n",
       "2010-01-15   w_open 1 w_high 1 w_low 1 w_close 1 new 1 started 0 done 0 dayofweek 4 dayofmonth 15 dayofyear 15  "
      ]
     },
     "metadata": {},
     "output_type": "display_data"
    }
   ],
   "source": [
    "\n",
    "data_file = '/Users/yousef/code/thesis-nlp/dataset/incident-ohlc-v06-scalar.csv'\n",
    "df_o = pd.read_csv(data_file,parse_dates=['date'],index_col=['date'])\n",
    "df_o.sort_index(inplace=True)\n",
    "# df['date'] = df.index\n",
    "# data_columns =  ['w_open', 'w_high', 'w_low', 'w_close', 'new', 'started','done', 'dayofweek', 'dayofmonth', 'dayofyear', 'target', 'y_ystrdy']\n",
    "data_columns =  ['w_open', 'w_high', 'w_low', 'w_close', 'new', 'started','done', 'dayofweek', 'dayofmonth', 'dayofyear', 'target', 'y_ystrdy']\n",
    "\n",
    "df_o = df_o[data_columns].copy()\n",
    "max_number_in_data = int(df_o.describe().transpose()[\"max\"].max())\n",
    "print(f'Max number in the data is {max_number_in_data}')\n",
    "# display(df.head())\n",
    "df = pd.DataFrame()\n",
    "df['label']= df_o['target']\n",
    "df['text']= ''\n",
    "for col in data_columns[:-2]:\n",
    "    df_o[col] = df_o[col].apply(lambda x: f'{x:.0f}')\n",
    "    df['text'] = df['text'] + f' {col} ' + df_o[col].astype(str)\n",
    "\n",
    "# Remove NaN\n",
    "df = df.iloc[1:-1]\n",
    "\n",
    "display(df['text'][0])\n",
    "display(df.head(2))\n"
   ]
  },
  {
   "cell_type": "code",
   "execution_count": 29,
   "id": "c85b08f5-5ce8-44a7-8c15-183536b2073d",
   "metadata": {},
   "outputs": [
    {
     "data": {
      "text/plain": [
       "date\n",
       "2010-01-14     1.0\n",
       "2010-01-15     1.0\n",
       "2010-01-16     1.0\n",
       "2010-01-17     2.0\n",
       "2010-01-18     3.0\n",
       "              ... \n",
       "2013-12-29    33.0\n",
       "2013-12-30    30.0\n",
       "2013-12-31    26.0\n",
       "2014-01-01    21.0\n",
       "2014-01-02    13.0\n",
       "Name: label, Length: 1450, dtype: float64"
      ]
     },
     "execution_count": 29,
     "metadata": {},
     "output_type": "execute_result"
    }
   ],
   "source": [
    "df['label']"
   ]
  },
  {
   "cell_type": "code",
   "execution_count": 30,
   "id": "6cec42b7-bd90-49f0-877d-3212eb21c332",
   "metadata": {},
   "outputs": [
    {
     "data": {
      "text/html": [
       "<div>\n",
       "<style scoped>\n",
       "    .dataframe tbody tr th:only-of-type {\n",
       "        vertical-align: middle;\n",
       "    }\n",
       "\n",
       "    .dataframe tbody tr th {\n",
       "        vertical-align: top;\n",
       "    }\n",
       "\n",
       "    .dataframe thead th {\n",
       "        text-align: right;\n",
       "    }\n",
       "</style>\n",
       "<table border=\"1\" class=\"dataframe\">\n",
       "  <thead>\n",
       "    <tr style=\"text-align: right;\">\n",
       "      <th></th>\n",
       "      <th>w_open</th>\n",
       "      <th>w_high</th>\n",
       "      <th>w_low</th>\n",
       "      <th>w_close</th>\n",
       "      <th>new</th>\n",
       "      <th>started</th>\n",
       "      <th>done</th>\n",
       "      <th>dayofweek</th>\n",
       "      <th>dayofmonth</th>\n",
       "      <th>dayofyear</th>\n",
       "      <th>target</th>\n",
       "      <th>y_ystrdy</th>\n",
       "    </tr>\n",
       "    <tr>\n",
       "      <th>date</th>\n",
       "      <th></th>\n",
       "      <th></th>\n",
       "      <th></th>\n",
       "      <th></th>\n",
       "      <th></th>\n",
       "      <th></th>\n",
       "      <th></th>\n",
       "      <th></th>\n",
       "      <th></th>\n",
       "      <th></th>\n",
       "      <th></th>\n",
       "      <th></th>\n",
       "    </tr>\n",
       "  </thead>\n",
       "  <tbody>\n",
       "    <tr>\n",
       "      <th>2010-01-13</th>\n",
       "      <td>0</td>\n",
       "      <td>0</td>\n",
       "      <td>0</td>\n",
       "      <td>0</td>\n",
       "      <td>5</td>\n",
       "      <td>0</td>\n",
       "      <td>0</td>\n",
       "      <td>2</td>\n",
       "      <td>13</td>\n",
       "      <td>13</td>\n",
       "      <td>1.0</td>\n",
       "      <td>NaN</td>\n",
       "    </tr>\n",
       "    <tr>\n",
       "      <th>2010-01-14</th>\n",
       "      <td>0</td>\n",
       "      <td>1</td>\n",
       "      <td>0</td>\n",
       "      <td>1</td>\n",
       "      <td>3</td>\n",
       "      <td>1</td>\n",
       "      <td>0</td>\n",
       "      <td>3</td>\n",
       "      <td>14</td>\n",
       "      <td>14</td>\n",
       "      <td>1.0</td>\n",
       "      <td>0.0</td>\n",
       "    </tr>\n",
       "    <tr>\n",
       "      <th>2010-01-15</th>\n",
       "      <td>1</td>\n",
       "      <td>1</td>\n",
       "      <td>1</td>\n",
       "      <td>1</td>\n",
       "      <td>1</td>\n",
       "      <td>0</td>\n",
       "      <td>0</td>\n",
       "      <td>4</td>\n",
       "      <td>15</td>\n",
       "      <td>15</td>\n",
       "      <td>1.0</td>\n",
       "      <td>2.0</td>\n",
       "    </tr>\n",
       "    <tr>\n",
       "      <th>2010-01-16</th>\n",
       "      <td>1</td>\n",
       "      <td>1</td>\n",
       "      <td>1</td>\n",
       "      <td>1</td>\n",
       "      <td>0</td>\n",
       "      <td>0</td>\n",
       "      <td>0</td>\n",
       "      <td>5</td>\n",
       "      <td>16</td>\n",
       "      <td>16</td>\n",
       "      <td>1.0</td>\n",
       "      <td>1.0</td>\n",
       "    </tr>\n",
       "    <tr>\n",
       "      <th>2010-01-17</th>\n",
       "      <td>1</td>\n",
       "      <td>1</td>\n",
       "      <td>1</td>\n",
       "      <td>1</td>\n",
       "      <td>0</td>\n",
       "      <td>0</td>\n",
       "      <td>0</td>\n",
       "      <td>6</td>\n",
       "      <td>17</td>\n",
       "      <td>17</td>\n",
       "      <td>2.0</td>\n",
       "      <td>1.0</td>\n",
       "    </tr>\n",
       "    <tr>\n",
       "      <th>...</th>\n",
       "      <td>...</td>\n",
       "      <td>...</td>\n",
       "      <td>...</td>\n",
       "      <td>...</td>\n",
       "      <td>...</td>\n",
       "      <td>...</td>\n",
       "      <td>...</td>\n",
       "      <td>...</td>\n",
       "      <td>...</td>\n",
       "      <td>...</td>\n",
       "      <td>...</td>\n",
       "      <td>...</td>\n",
       "    </tr>\n",
       "    <tr>\n",
       "      <th>2013-12-30</th>\n",
       "      <td>33</td>\n",
       "      <td>33</td>\n",
       "      <td>33</td>\n",
       "      <td>33</td>\n",
       "      <td>0</td>\n",
       "      <td>0</td>\n",
       "      <td>0</td>\n",
       "      <td>0</td>\n",
       "      <td>30</td>\n",
       "      <td>364</td>\n",
       "      <td>30.0</td>\n",
       "      <td>33.0</td>\n",
       "    </tr>\n",
       "    <tr>\n",
       "      <th>2013-12-31</th>\n",
       "      <td>33</td>\n",
       "      <td>33</td>\n",
       "      <td>30</td>\n",
       "      <td>30</td>\n",
       "      <td>0</td>\n",
       "      <td>0</td>\n",
       "      <td>3</td>\n",
       "      <td>1</td>\n",
       "      <td>31</td>\n",
       "      <td>365</td>\n",
       "      <td>26.0</td>\n",
       "      <td>33.0</td>\n",
       "    </tr>\n",
       "    <tr>\n",
       "      <th>2014-01-01</th>\n",
       "      <td>30</td>\n",
       "      <td>30</td>\n",
       "      <td>26</td>\n",
       "      <td>26</td>\n",
       "      <td>0</td>\n",
       "      <td>0</td>\n",
       "      <td>4</td>\n",
       "      <td>2</td>\n",
       "      <td>1</td>\n",
       "      <td>1</td>\n",
       "      <td>21.0</td>\n",
       "      <td>27.0</td>\n",
       "    </tr>\n",
       "    <tr>\n",
       "      <th>2014-01-02</th>\n",
       "      <td>26</td>\n",
       "      <td>26</td>\n",
       "      <td>21</td>\n",
       "      <td>21</td>\n",
       "      <td>0</td>\n",
       "      <td>0</td>\n",
       "      <td>5</td>\n",
       "      <td>3</td>\n",
       "      <td>2</td>\n",
       "      <td>2</td>\n",
       "      <td>13.0</td>\n",
       "      <td>22.0</td>\n",
       "    </tr>\n",
       "    <tr>\n",
       "      <th>2014-01-03</th>\n",
       "      <td>21</td>\n",
       "      <td>21</td>\n",
       "      <td>13</td>\n",
       "      <td>13</td>\n",
       "      <td>0</td>\n",
       "      <td>0</td>\n",
       "      <td>8</td>\n",
       "      <td>4</td>\n",
       "      <td>3</td>\n",
       "      <td>3</td>\n",
       "      <td>NaN</td>\n",
       "      <td>16.0</td>\n",
       "    </tr>\n",
       "  </tbody>\n",
       "</table>\n",
       "<p>1452 rows × 12 columns</p>\n",
       "</div>"
      ],
      "text/plain": [
       "           w_open w_high w_low w_close new started done dayofweek dayofmonth  \\\n",
       "date                                                                           \n",
       "2010-01-13      0      0     0       0   5       0    0         2         13   \n",
       "2010-01-14      0      1     0       1   3       1    0         3         14   \n",
       "2010-01-15      1      1     1       1   1       0    0         4         15   \n",
       "2010-01-16      1      1     1       1   0       0    0         5         16   \n",
       "2010-01-17      1      1     1       1   0       0    0         6         17   \n",
       "...           ...    ...   ...     ...  ..     ...  ...       ...        ...   \n",
       "2013-12-30     33     33    33      33   0       0    0         0         30   \n",
       "2013-12-31     33     33    30      30   0       0    3         1         31   \n",
       "2014-01-01     30     30    26      26   0       0    4         2          1   \n",
       "2014-01-02     26     26    21      21   0       0    5         3          2   \n",
       "2014-01-03     21     21    13      13   0       0    8         4          3   \n",
       "\n",
       "           dayofyear  target  y_ystrdy  \n",
       "date                                    \n",
       "2010-01-13        13     1.0       NaN  \n",
       "2010-01-14        14     1.0       0.0  \n",
       "2010-01-15        15     1.0       2.0  \n",
       "2010-01-16        16     1.0       1.0  \n",
       "2010-01-17        17     2.0       1.0  \n",
       "...              ...     ...       ...  \n",
       "2013-12-30       364    30.0      33.0  \n",
       "2013-12-31       365    26.0      33.0  \n",
       "2014-01-01         1    21.0      27.0  \n",
       "2014-01-02         2    13.0      22.0  \n",
       "2014-01-03         3     NaN      16.0  \n",
       "\n",
       "[1452 rows x 12 columns]"
      ]
     },
     "execution_count": 30,
     "metadata": {},
     "output_type": "execute_result"
    }
   ],
   "source": [
    "df_o"
   ]
  },
  {
   "cell_type": "markdown",
   "id": "106628ba-bc97-4065-94d4-4e7ce76cbf39",
   "metadata": {},
   "source": [
    "## Create AutoTokenizer"
   ]
  },
  {
   "cell_type": "code",
   "execution_count": 31,
   "id": "a2bf69bf-1cc4-4721-b6fb-2773701e49cc",
   "metadata": {},
   "outputs": [],
   "source": [
    "tokenizer = AutoTokenizer.from_pretrained(\"distilbert-base-uncased\")"
   ]
  },
  {
   "cell_type": "markdown",
   "id": "a1203d29-422d-45b7-940e-e83eebc18ab8",
   "metadata": {},
   "source": [
    "## Pandas To Dataset"
   ]
  },
  {
   "cell_type": "code",
   "execution_count": 32,
   "id": "6b15b756-e9c4-4847-831d-d97c559461f2",
   "metadata": {},
   "outputs": [
    {
     "data": {
      "text/html": [
       "<div>\n",
       "<style scoped>\n",
       "    .dataframe tbody tr th:only-of-type {\n",
       "        vertical-align: middle;\n",
       "    }\n",
       "\n",
       "    .dataframe tbody tr th {\n",
       "        vertical-align: top;\n",
       "    }\n",
       "\n",
       "    .dataframe thead th {\n",
       "        text-align: right;\n",
       "    }\n",
       "</style>\n",
       "<table border=\"1\" class=\"dataframe\">\n",
       "  <thead>\n",
       "    <tr style=\"text-align: right;\">\n",
       "      <th></th>\n",
       "      <th>text</th>\n",
       "      <th>label</th>\n",
       "    </tr>\n",
       "    <tr>\n",
       "      <th>date</th>\n",
       "      <th></th>\n",
       "      <th></th>\n",
       "    </tr>\n",
       "  </thead>\n",
       "  <tbody>\n",
       "    <tr>\n",
       "      <th>2010-01-14</th>\n",
       "      <td>w_open 0 w_high 1 w_low 0 w_close 1 new 3 started 1 done 0 dayofweek 3 dayofmonth 14 dayofyear 14</td>\n",
       "      <td>1.0</td>\n",
       "    </tr>\n",
       "    <tr>\n",
       "      <th>2010-01-15</th>\n",
       "      <td>w_open 1 w_high 1 w_low 1 w_close 1 new 1 started 0 done 0 dayofweek 4 dayofmonth 15 dayofyear 15</td>\n",
       "      <td>1.0</td>\n",
       "    </tr>\n",
       "    <tr>\n",
       "      <th>2010-01-16</th>\n",
       "      <td>w_open 1 w_high 1 w_low 1 w_close 1 new 0 started 0 done 0 dayofweek 5 dayofmonth 16 dayofyear 16</td>\n",
       "      <td>1.0</td>\n",
       "    </tr>\n",
       "  </tbody>\n",
       "</table>\n",
       "</div>"
      ],
      "text/plain": [
       "                                                                                                          text  \\\n",
       "date                                                                                                             \n",
       "2010-01-14   w_open 0 w_high 1 w_low 0 w_close 1 new 3 started 1 done 0 dayofweek 3 dayofmonth 14 dayofyear 14   \n",
       "2010-01-15   w_open 1 w_high 1 w_low 1 w_close 1 new 1 started 0 done 0 dayofweek 4 dayofmonth 15 dayofyear 15   \n",
       "2010-01-16   w_open 1 w_high 1 w_low 1 w_close 1 new 0 started 0 done 0 dayofweek 5 dayofmonth 16 dayofyear 16   \n",
       "\n",
       "            label  \n",
       "date               \n",
       "2010-01-14    1.0  \n",
       "2010-01-15    1.0  \n",
       "2010-01-16    1.0  "
      ]
     },
     "metadata": {},
     "output_type": "display_data"
    },
    {
     "data": {
      "application/vnd.jupyter.widget-view+json": {
       "model_id": "815d07aae9cd405cae3b6224df85f701",
       "version_major": 2,
       "version_minor": 0
      },
      "text/plain": [
       "  0%|          | 0/2 [00:00<?, ?ba/s]"
      ]
     },
     "metadata": {},
     "output_type": "display_data"
    },
    {
     "data": {
      "application/vnd.jupyter.widget-view+json": {
       "model_id": "14ea37cbd2b24b4aa481980fb7b30216",
       "version_major": 2,
       "version_minor": 0
      },
      "text/plain": [
       "  0%|          | 0/1 [00:00<?, ?ba/s]"
      ]
     },
     "metadata": {},
     "output_type": "display_data"
    }
   ],
   "source": [
    "import pandas as pd \n",
    "from sklearn.preprocessing import MinMaxScaler\n",
    "\n",
    "columns = ['text','label']\n",
    "def make_dataset(dataset, iloc_from, iloc_to):\n",
    "    df_ = dataset[columns].iloc[iloc_from:iloc_to]  \n",
    "    # df_.reset_index(inplace=True,drop=True)\n",
    "    return df_\n",
    "\n",
    "df_nlp = make_dataset(df, 0,len(df))\n",
    "\n",
    "display(df_nlp.head(3))\n",
    "\n",
    "dataset = Dataset.from_pandas(df_nlp[columns],preserve_index=False) \n",
    "dataset = dataset.train_test_split(test_size=0.3) \n",
    "\n",
    "def tokenize_function(examples):\n",
    "    return tokenizer(examples[\"text\"], padding=\"max_length\", truncation=True)\n",
    "\n",
    "tokenized_datasets = dataset.map(tokenize_function, batched=True)\n"
   ]
  },
  {
   "cell_type": "code",
   "execution_count": null,
   "id": "7a282e8e-7bff-498b-a476-49246640de4b",
   "metadata": {},
   "outputs": [],
   "source": []
  },
  {
   "cell_type": "code",
   "execution_count": 33,
   "id": "bfd0011a-804b-4b72-b412-d79d26c86d72",
   "metadata": {},
   "outputs": [
    {
     "data": {
      "image/png": "[encoded data removed]",
      "text/plain": [
       "<Figure size 1000x500 with 2 Axes>"
      ]
     },
     "metadata": {},
     "output_type": "display_data"
    }
   ],
   "source": [
    "fig, axs = plt.subplots(nrows=1,ncols=2,figsize=(10, 5))\n",
    "\n",
    "axs[0].plot(dataset['train']['label'],label='train')\n",
    "axs[1].plot(dataset['test']['label'],label='train')\n",
    "axs[0].title.set_text('train ')\n",
    "axs[1].title.set_text('test ')\n"
   ]
  },
  {
   "cell_type": "markdown",
   "id": "873ce9bf-e8ec-4fe1-b910-99b3588a24fd",
   "metadata": {},
   "source": [
    "## Tokenization & How To Add New Tokens\n"
   ]
  },
  {
   "cell_type": "code",
   "execution_count": 34,
   "id": "f11a98f3-9c09-45c1-9174-14b0a8f44ec4",
   "metadata": {},
   "outputs": [
    {
     "data": {
      "application/vnd.jupyter.widget-view+json": {
       "model_id": "2caf3857edba4fbe827f12378d265e6b",
       "version_major": 2,
       "version_minor": 0
      },
      "text/plain": [
       "  0%|          | 0/2 [00:00<?, ?ba/s]"
      ]
     },
     "metadata": {},
     "output_type": "display_data"
    },
    {
     "data": {
      "application/vnd.jupyter.widget-view+json": {
       "model_id": "8574e72b5884417db2d6fa511b94f611",
       "version_major": 2,
       "version_minor": 0
      },
      "text/plain": [
       "  0%|          | 0/1 [00:00<?, ?ba/s]"
      ]
     },
     "metadata": {},
     "output_type": "display_data"
    }
   ],
   "source": [
    "tokenizer = AutoTokenizer.from_pretrained(\"distilbert-base-uncased\")\n",
    "\n",
    "for x in data_columns:\n",
    "    tokenizer.add_tokens(x)\n",
    "    \n",
    "for x in range(max_number_in_data):\n",
    "    tokenizer.add_tokens(str(x))\n",
    "\n",
    "    \n",
    "        \n",
    "def tokenize_function(examples):\n",
    "    return tokenizer(examples[\"text\"], padding=\"max_length\", truncation=True)\n",
    "\n",
    "tokenized_datasets = dataset.map(tokenize_function, batched=True)\n",
    "\n",
    "# add separators : , - , at, on \n",
    "# add hour, min as  00 , 01 , 59\n",
    "# add 2010, 2011"
   ]
  },
  {
   "cell_type": "code",
   "execution_count": 35,
   "id": "092eed79-c16c-4c04-a9e7-ca2cf0ca1fa5",
   "metadata": {},
   "outputs": [
    {
     "name": "stdout",
     "output_type": "stream",
     "text": [
      "tokens:10,[101, 1017, 1017, 1016, 1014, 2589, 5539, 2589, 5539, 102] \n",
      "tokens_unique:7,[5539, 101, 102, 1014, 1016, 1017, 2589] \n",
      "actual token:['[CLS]', '3', '3', '2', '0', 'done', '250', 'done', '250', '[SEP]']\n"
     ]
    }
   ],
   "source": [
    "tokens = tokenizer('3 3 2 0 done 250 done 250')['input_ids']\n",
    "tokens_unique = list(set(tokens))\n",
    "actual_tokens = [tokenizer.decode(i) for i in tokens]\n",
    "\n",
    "print(f'tokens:{len(tokens)},{tokens} \\ntokens_unique:{len(tokens_unique)},{tokens_unique} \\nactual token:{actual_tokens}')"
   ]
  },
  {
   "cell_type": "markdown",
   "id": "c2f4dedd-18a2-415f-9e9b-999d72d7a028",
   "metadata": {},
   "source": [
    "#### Test Tokenization"
   ]
  },
  {
   "cell_type": "code",
   "execution_count": 36,
   "id": "d41ca962-5ff1-4d7f-9567-956b3e815916",
   "metadata": {},
   "outputs": [
    {
     "name": "stdout",
     "output_type": "stream",
     "text": [
      "text  : w_open 0 w_high 1 w_low 0 w_close 1 new 3 started 1 done 0 dayofweek 3 dayofmonth 14 dayofyear 14 \n",
      "tokens:[101, 30522, 1014, 30523, 1015, 30524, 1014, 30525, 1015, 2047, 1017, 2318, 1015, 2589, 1014, 30526, 1017, 30527, 2403, 30528, 2403, 102] \n",
      "tokens_unique:[30528, 2589, 2403, 101, 102, 2318, 30527, 1014, 1015, 1017, 30522, 30523, 30524, 30525, 30526, 2047] \n",
      "actual token:['[CLS]', 'w_open', '0', 'w_high', '1', 'w_low', '0', 'w_close', '1', 'new', '3', 'started', '1', 'done', '0', 'dayofweek', '3', 'dayofmonth', '14', 'dayofyear', '14', '[SEP]']\n"
     ]
    }
   ],
   "source": [
    "text = df_nlp[\"text\"][0]\n",
    "tokens = tokenizer(text)['input_ids']\n",
    "tokens_unique = list(set(tokens))\n",
    "actual_tokens = [tokenizer.decode(i) for i in tokens]\n",
    "\n",
    "print(f'text  :{text} \\ntokens:{tokens} \\ntokens_unique:{tokens_unique} \\nactual token:{actual_tokens}')"
   ]
  },
  {
   "cell_type": "markdown",
   "id": "6089c23f-0a6b-4998-8d82-1faf9c02c685",
   "metadata": {},
   "source": [
    "## Fine-Tuning The Model"
   ]
  },
  {
   "cell_type": "code",
   "execution_count": 37,
   "id": "ff2afcab-4f70-4fc2-9932-ba50d1b2a1d1",
   "metadata": {},
   "outputs": [],
   "source": [
    "# num_labels =1 means regression\n",
    "model = AutoModelForSequenceClassification.from_pretrained(\"distilbert-base-uncased\", num_labels=1)\n",
    "model.resize_token_embeddings(len(tokenizer))\n",
    "\n",
    "training_args = TrainingArguments(output_dir=\"test_trainer\",\n",
    "                                  logging_strategy=\"epoch\",\n",
    "                                  evaluation_strategy=\"epoch\",\n",
    "                                  per_device_train_batch_size=16,\n",
    "                                  per_device_eval_batch_size=16,\n",
    "                                  num_train_epochs=3,\n",
    "                                  save_total_limit = 2,\n",
    "                                  save_strategy = 'no',\n",
    "                                  load_best_model_at_end=False,\n",
    "                                  report_to=\"none\"\n",
    "                                  )"
   ]
  },
  {
   "cell_type": "markdown",
   "id": "85b93903-34c9-4d06-8223-8fd379c638fd",
   "metadata": {},
   "source": [
    "### Metrics Function\n"
   ]
  },
  {
   "cell_type": "code",
   "execution_count": 38,
   "id": "35822364-a1ce-4076-8b89-25e1f87565e2",
   "metadata": {},
   "outputs": [],
   "source": [
    "from datasets import load_metric\n",
    "from sklearn.metrics import mean_squared_error\n",
    "import evaluate\n",
    "\n",
    "def compute_metrics(eval_pred):\n",
    "    predictions, labels = eval_pred\n",
    "    # rmse = mean_squared_error(labels, predictions, squared=False)\n",
    "    rmse = mean_squared_error(labels, predictions, squared=True)\n",
    "    return {\"rmse\": rmse}\n",
    "\n",
    "def compute_metrics_mape(eval_pred):\n",
    "    predictions, labels = eval_pred\n",
    "    mape = mape_metric.compute(predictions=predictions, references=labels)\n",
    "    return {\"mape\": mape}"
   ]
  },
  {
   "cell_type": "code",
   "execution_count": null,
   "id": "476777bb-a9dd-4bce-bdff-1dc022cbd414",
   "metadata": {},
   "outputs": [],
   "source": []
  },
  {
   "cell_type": "markdown",
   "id": "ce8a36c3-026e-49e1-b86c-d66a8838e36e",
   "metadata": {},
   "source": [
    "### Train The Model"
   ]
  },
  {
   "cell_type": "code",
   "execution_count": 39,
   "id": "348c5fc7-8152-4fb0-b0c5-90b50263ea1e",
   "metadata": {},
   "outputs": [
    {
     "name": "stderr",
     "output_type": "stream",
     "text": [
      "The following columns in the training set don't have a corresponding argument in `DistilBertForSequenceClassification.forward` and have been ignored: text. If text are not expected by `DistilBertForSequenceClassification.forward`,  you can safely ignore this message.\n",
      "/Users/yousef/miniforge3/envs/mlp/lib/python3.8/site-packages/transformers/optimization.py:306: FutureWarning: This implementation of AdamW is deprecated and will be removed in a future version. Use the PyTorch implementation torch.optim.AdamW instead, or set `no_deprecation_warning=True` to disable this warning\n",
      "  warnings.warn(\n",
      "***** Running training *****\n",
      "  Num examples = 1015\n",
      "  Num Epochs = 3\n",
      "  Instantaneous batch size per device = 16\n",
      "  Total train batch size (w. parallel, distributed & accumulation) = 16\n",
      "  Gradient Accumulation steps = 1\n",
      "  Total optimization steps = 192\n",
      "  Number of trainable parameters = 66969601\n",
      "The following columns in the evaluation set don't have a corresponding argument in `DistilBertForSequenceClassification.forward` and have been ignored: text. If text are not expected by `DistilBertForSequenceClassification.forward`,  you can safely ignore this message.\n",
      "***** Running Evaluation *****\n",
      "  Num examples = 435\n",
      "  Batch size = 16\n"
     ]
    },
    {
     "name": "stdout",
     "output_type": "stream",
     "text": [
      "{'loss': 19370.9238, 'learning_rate': 3.3333333333333335e-05, 'epoch': 1.0}\n",
      "{'eval_loss': 17649.98828125, 'eval_rmse': 17649.990234375, 'eval_runtime': 52.3233, 'eval_samples_per_second': 8.314, 'eval_steps_per_second': 0.535, 'epoch': 1.0}\n"
     ]
    },
    {
     "name": "stderr",
     "output_type": "stream",
     "text": [
      "The following columns in the evaluation set don't have a corresponding argument in `DistilBertForSequenceClassification.forward` and have been ignored: text. If text are not expected by `DistilBertForSequenceClassification.forward`,  you can safely ignore this message.\n",
      "***** Running Evaluation *****\n",
      "  Num examples = 435\n",
      "  Batch size = 16\n"
     ]
    },
    {
     "name": "stdout",
     "output_type": "stream",
     "text": [
      "{'loss': 17896.5605, 'learning_rate': 1.6666666666666667e-05, 'epoch': 2.0}\n",
      "{'eval_loss': 16513.865234375, 'eval_rmse': 16513.8671875, 'eval_runtime': 93.5146, 'eval_samples_per_second': 4.652, 'eval_steps_per_second': 0.299, 'epoch': 2.0}\n"
     ]
    },
    {
     "name": "stderr",
     "output_type": "stream",
     "text": [
      "The following columns in the evaluation set don't have a corresponding argument in `DistilBertForSequenceClassification.forward` and have been ignored: text. If text are not expected by `DistilBertForSequenceClassification.forward`,  you can safely ignore this message.\n",
      "***** Running Evaluation *****\n",
      "  Num examples = 435\n",
      "  Batch size = 16\n"
     ]
    },
    {
     "name": "stdout",
     "output_type": "stream",
     "text": [
      "{'loss': 17086.2402, 'learning_rate': 0.0, 'epoch': 3.0}\n"
     ]
    },
    {
     "name": "stderr",
     "output_type": "stream",
     "text": [
      "\n",
      "\n",
      "Training completed. Do not forget to share your model on huggingface.co/models =)\n",
      "\n",
      "\n"
     ]
    },
    {
     "name": "stdout",
     "output_type": "stream",
     "text": [
      "{'eval_loss': 16112.173828125, 'eval_rmse': 16112.1728515625, 'eval_runtime': 94.9135, 'eval_samples_per_second': 4.583, 'eval_steps_per_second': 0.295, 'epoch': 3.0}\n",
      "{'train_runtime': 2250.4278, 'train_samples_per_second': 1.353, 'train_steps_per_second': 0.085, 'train_loss': 18117.908203125, 'epoch': 3.0}\n"
     ]
    },
    {
     "data": {
      "text/plain": [
       "TrainOutput(global_step=192, training_loss=18117.908203125, metrics={'train_runtime': 2250.4278, 'train_samples_per_second': 1.353, 'train_steps_per_second': 0.085, 'train_loss': 18117.908203125, 'epoch': 3.0})"
      ]
     },
     "execution_count": 39,
     "metadata": {},
     "output_type": "execute_result"
    }
   ],
   "source": [
    "trainer = Trainer(\n",
    "    model=model,\n",
    "    args=training_args,\n",
    "    train_dataset=tokenized_datasets[\"train\"],\n",
    "    eval_dataset=tokenized_datasets[\"test\"],\n",
    "    compute_metrics=compute_metrics\n",
    ")\n",
    "trainer.train()\n",
    "print('\\n<===== Train is done =====>')"
   ]
  },
  {
   "cell_type": "markdown",
   "id": "d6b12ee3-b66c-46c1-884d-cc5a01133059",
   "metadata": {},
   "source": [
    "# Train and test chart and metrics"
   ]
  },
  {
   "cell_type": "code",
   "execution_count": 40,
   "id": "774fed1d-5a7f-441d-9066-8693246110d7",
   "metadata": {},
   "outputs": [
    {
     "name": "stderr",
     "output_type": "stream",
     "text": [
      "The following columns in the test set don't have a corresponding argument in `DistilBertForSequenceClassification.forward` and have been ignored: text. If text are not expected by `DistilBertForSequenceClassification.forward`,  you can safely ignore this message.\n",
      "***** Running Prediction *****\n",
      "  Num examples = 435\n",
      "  Batch size = 16\n",
      "The following columns in the test set don't have a corresponding argument in `DistilBertForSequenceClassification.forward` and have been ignored: text. If text are not expected by `DistilBertForSequenceClassification.forward`,  you can safely ignore this message.\n",
      "***** Running Prediction *****\n",
      "  Num examples = 1015\n",
      "  Batch size = 16\n"
     ]
    }
   ],
   "source": [
    "predictions_test = trainer.predict(tokenized_datasets[\"test\"])\n",
    "predictions_train = trainer.predict(tokenized_datasets[\"train\"])\n",
    "print('\\n<===== Predictions are done =====>')"
   ]
  },
  {
   "cell_type": "code",
   "execution_count": 41,
   "id": "f7e9a1b2-7a68-44e8-b9cd-66b8be1b557b",
   "metadata": {},
   "outputs": [
    {
     "ename": "NameError",
     "evalue": "name 'data' is not defined",
     "output_type": "error",
     "traceback": [
      "\u001b[0;31m---------------------------------------------------------------------------\u001b[0m",
      "\u001b[0;31mNameError\u001b[0m                                 Traceback (most recent call last)",
      "Cell \u001b[0;32mIn[41], line 1\u001b[0m\n\u001b[0;32m----> 1\u001b[0m plt\u001b[38;5;241m.\u001b[39mplot(\u001b[43mdata\u001b[49m[\u001b[38;5;241m0\u001b[39m],label\u001b[38;5;241m=\u001b[39m\u001b[38;5;124m'\u001b[39m\u001b[38;5;124mtrain\u001b[39m\u001b[38;5;124m'\u001b[39m)\n",
      "\u001b[0;31mNameError\u001b[0m: name 'data' is not defined"
     ]
    }
   ],
   "source": [
    "plt.plot(data[0],label='train')"
   ]
  },
  {
   "cell_type": "code",
   "execution_count": null,
   "id": "88a5f190-ef8e-446e-9646-b97bef3f4ae7",
   "metadata": {},
   "outputs": [],
   "source": [
    "data = [predictions_train.predictions,predictions_test.predictions]\n",
    "fig, axs = plt.subplots(nrows=1,ncols=2,figsize=(10, 5))\n",
    "\n",
    "axs[0].plot(data[0],label='train')\n",
    "axs[0].plot(dataset[\"train\"]['label'],label='y')\n",
    "axs[0].title.set_text('train ')\n",
    "axs[0].legend(loc='upper right')\n",
    "\n",
    "\n",
    "axs[1].plot(data[1],label='test')\n",
    "axs[1].plot(dataset[\"test\"]['label'],label='y')\n",
    "axs[1].title.set_text('test ')\n",
    "axs[1].legend(loc='upper right')\n"
   ]
  },
  {
   "cell_type": "code",
   "execution_count": null,
   "id": "6b70e588-5e9c-4118-9a1b-3726154bd6b9",
   "metadata": {},
   "outputs": [],
   "source": [
    "print(f'key\\t\\t train.metric \\t test.metrics')\n",
    "\n",
    "for key in list(predictions_test.metrics.keys())[:2]:\n",
    "    print(f'{key} \\t\\t{predictions_train.metrics[key]:0.3f} \\t\\t{predictions_test.metrics[key]:0.3f}')"
   ]
  },
  {
   "cell_type": "markdown",
   "id": "93cf6589-5985-4b29-94e0-3821c11f1979",
   "metadata": {},
   "source": [
    "## Save And Load The Pre-Trained Model And Tokenizer\n"
   ]
  },
  {
   "cell_type": "code",
   "execution_count": null,
   "id": "8da49608-1b8f-4b06-a846-3d0233a29e1f",
   "metadata": {},
   "outputs": [],
   "source": [
    "# save the model/tokenizer\n",
    "\n",
    "model.save_pretrained(\"model\")\n",
    "tokenizer.save_pretrained(\"tokenizer\")\n",
    "\n",
    "# load the model/tokenizer\n",
    "\n",
    "from transformers import AutoModelForTokenClassification\n",
    "model = AutoModelForSequenceClassification.from_pretrained(\"model\")\n",
    "tokenizer = AutoTokenizer.from_pretrained(\"tokenizer\")"
   ]
  },
  {
   "cell_type": "markdown",
   "id": "fc4aa8f9-b776-4557-b240-e4a5e03bf686",
   "metadata": {},
   "source": [
    "##  Use The Model"
   ]
  },
  {
   "cell_type": "code",
   "execution_count": null,
   "id": "3e81e63d-8d48-4203-b90b-ba10a1fb1bb0",
   "metadata": {},
   "outputs": [],
   "source": [
    "from transformers import Trainer\n",
    "trainer = Trainer(model=model)\n",
    "\n",
    "def tokenize_function(examples):\n",
    "    return tokenizer(examples[\"text\"], padding=\"max_length\", truncation=True) \n",
    "\n",
    "def pipeline_prediction(text):\n",
    "    df=pd.DataFrame({'text':[text]})\n",
    "    dataset = Dataset.from_pandas(df,preserve_index=False) \n",
    "    tokenized_datasets = dataset.map(tokenize_function)\n",
    "    raw_pred, _, _ = trainer.predict(tokenized_datasets) \n",
    "    return(raw_pred[0][0])\n",
    "\n",
    "pipeline_prediction(\"🚨 Get 50% now!\")"
   ]
  },
  {
   "cell_type": "code",
   "execution_count": null,
   "id": "97a0fe46-e0ea-4e80-a60f-70128b73c66e",
   "metadata": {},
   "outputs": [],
   "source": []
  }
 ],
 "metadata": {
  "kernelspec": {
   "display_name": "mlp",
   "language": "python",
   "name": "mlp"
  },
  "language_info": {
   "codemirror_mode": {
    "name": "ipython",
    "version": 3
   },
   "file_extension": ".py",
   "mimetype": "text/x-python",
   "name": "python",
   "nbconvert_exporter": "python",
   "pygments_lexer": "ipython3",
   "version": "3.8.15"
  }
 },
 "nbformat": 4,
 "nbformat_minor": 5
}
